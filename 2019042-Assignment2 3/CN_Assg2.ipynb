{
  "nbformat": 4,
  "nbformat_minor": 0,
  "metadata": {
    "colab": {
      "name": "CN_Assg2.ipynb",
      "provenance": []
    },
    "kernelspec": {
      "name": "python3",
      "display_name": "Python 3"
    },
    "language_info": {
      "name": "python"
    },
    "accelerator": "TPU"
  },
  "cells": [
    {
      "cell_type": "code",
      "metadata": {
        "id": "RdC0UdmIsXAj"
      },
      "source": [
        "import pandas as pd\n",
        "import numpy as np\n",
        "import matplotlib.pyplot as plt\n"
      ],
      "execution_count": 15,
      "outputs": []
    },
    {
      "cell_type": "code",
      "metadata": {
        "id": "NBJhd4q_s1LJ"
      },
      "source": [
        "df = pd.read_csv(\"packets_final.csv\")"
      ],
      "execution_count": 64,
      "outputs": []
    },
    {
      "cell_type": "code",
      "metadata": {
        "colab": {
          "base_uri": "https://localhost:8080/",
          "height": 875
        },
        "id": "N7pC4Z-ks4ko",
        "outputId": "7f430931-3567-47c9-d84b-19238fad1d83"
      },
      "source": [
        "df"
      ],
      "execution_count": 65,
      "outputs": [
        {
          "output_type": "execute_result",
          "data": {
            "text/html": [
              "<div>\n",
              "<style scoped>\n",
              "    .dataframe tbody tr th:only-of-type {\n",
              "        vertical-align: middle;\n",
              "    }\n",
              "\n",
              "    .dataframe tbody tr th {\n",
              "        vertical-align: top;\n",
              "    }\n",
              "\n",
              "    .dataframe thead th {\n",
              "        text-align: right;\n",
              "    }\n",
              "</style>\n",
              "<table border=\"1\" class=\"dataframe\">\n",
              "  <thead>\n",
              "    <tr style=\"text-align: right;\">\n",
              "      <th></th>\n",
              "      <th>No.</th>\n",
              "      <th>Time</th>\n",
              "      <th>Source</th>\n",
              "      <th>Destination</th>\n",
              "      <th>Protocol</th>\n",
              "      <th>Length</th>\n",
              "      <th>Info</th>\n",
              "    </tr>\n",
              "  </thead>\n",
              "  <tbody>\n",
              "    <tr>\n",
              "      <th>0</th>\n",
              "      <td>2</td>\n",
              "      <td>0.001584</td>\n",
              "      <td>127.0.0.1</td>\n",
              "      <td>127.0.0.1</td>\n",
              "      <td>TCP</td>\n",
              "      <td>74</td>\n",
              "      <td>8080  &gt;  54092 [SYN, ACK] Seq=0 Ack=1 Win=6548...</td>\n",
              "    </tr>\n",
              "    <tr>\n",
              "      <th>1</th>\n",
              "      <td>5</td>\n",
              "      <td>1.174996</td>\n",
              "      <td>127.0.0.1</td>\n",
              "      <td>127.0.0.1</td>\n",
              "      <td>TCP</td>\n",
              "      <td>66</td>\n",
              "      <td>8080  &gt;  54092 [ACK] Seq=1 Ack=18 Win=65536 Le...</td>\n",
              "    </tr>\n",
              "    <tr>\n",
              "      <th>2</th>\n",
              "      <td>6</td>\n",
              "      <td>1.865006</td>\n",
              "      <td>127.0.0.1</td>\n",
              "      <td>127.0.0.1</td>\n",
              "      <td>TCP</td>\n",
              "      <td>1434</td>\n",
              "      <td>8080  &gt;  54092 [PSH, ACK] Seq=1 Ack=18 Win=655...</td>\n",
              "    </tr>\n",
              "    <tr>\n",
              "      <th>3</th>\n",
              "      <td>9</td>\n",
              "      <td>2.506143</td>\n",
              "      <td>127.0.0.1</td>\n",
              "      <td>127.0.0.1</td>\n",
              "      <td>TCP</td>\n",
              "      <td>66</td>\n",
              "      <td>8080  &gt;  54092 [ACK] Seq=1369 Ack=177 Win=6540...</td>\n",
              "    </tr>\n",
              "    <tr>\n",
              "      <th>4</th>\n",
              "      <td>10</td>\n",
              "      <td>3.218877</td>\n",
              "      <td>127.0.0.1</td>\n",
              "      <td>127.0.0.1</td>\n",
              "      <td>TCP</td>\n",
              "      <td>1434</td>\n",
              "      <td>8080  &gt;  54092 [PSH, ACK] Seq=1369 Ack=177 Win...</td>\n",
              "    </tr>\n",
              "    <tr>\n",
              "      <th>...</th>\n",
              "      <td>...</td>\n",
              "      <td>...</td>\n",
              "      <td>...</td>\n",
              "      <td>...</td>\n",
              "      <td>...</td>\n",
              "      <td>...</td>\n",
              "      <td>...</td>\n",
              "    </tr>\n",
              "    <tr>\n",
              "      <th>200</th>\n",
              "      <td>402</td>\n",
              "      <td>121.564473</td>\n",
              "      <td>127.0.0.1</td>\n",
              "      <td>127.0.0.1</td>\n",
              "      <td>TCP</td>\n",
              "      <td>1434</td>\n",
              "      <td>8080  &gt;  54092 [PSH, ACK] Seq=135433 Ack=15759...</td>\n",
              "    </tr>\n",
              "    <tr>\n",
              "      <th>201</th>\n",
              "      <td>405</td>\n",
              "      <td>122.160149</td>\n",
              "      <td>127.0.0.1</td>\n",
              "      <td>127.0.0.1</td>\n",
              "      <td>TCP</td>\n",
              "      <td>66</td>\n",
              "      <td>8080  &gt;  54092 [ACK] Seq=136801 Ack=15918 Win=...</td>\n",
              "    </tr>\n",
              "    <tr>\n",
              "      <th>202</th>\n",
              "      <td>406</td>\n",
              "      <td>123.001379</td>\n",
              "      <td>127.0.0.1</td>\n",
              "      <td>127.0.0.1</td>\n",
              "      <td>TCP</td>\n",
              "      <td>1434</td>\n",
              "      <td>8080  &gt;  54092 [PSH, ACK] Seq=136801 Ack=15918...</td>\n",
              "    </tr>\n",
              "    <tr>\n",
              "      <th>203</th>\n",
              "      <td>409</td>\n",
              "      <td>123.483470</td>\n",
              "      <td>127.0.0.1</td>\n",
              "      <td>127.0.0.1</td>\n",
              "      <td>TCP</td>\n",
              "      <td>66</td>\n",
              "      <td>8080  &gt;  54092 [ACK] Seq=138169 Ack=15919 Win=...</td>\n",
              "    </tr>\n",
              "    <tr>\n",
              "      <th>204</th>\n",
              "      <td>410</td>\n",
              "      <td>124.097173</td>\n",
              "      <td>127.0.0.1</td>\n",
              "      <td>127.0.0.1</td>\n",
              "      <td>TCP</td>\n",
              "      <td>1434</td>\n",
              "      <td>8080  &gt;  54092 [PSH, ACK] Seq=138169 Ack=15919...</td>\n",
              "    </tr>\n",
              "  </tbody>\n",
              "</table>\n",
              "<p>205 rows × 7 columns</p>\n",
              "</div>"
            ],
            "text/plain": [
              "     No.        Time  ... Length                                               Info\n",
              "0      2    0.001584  ...     74  8080  >  54092 [SYN, ACK] Seq=0 Ack=1 Win=6548...\n",
              "1      5    1.174996  ...     66  8080  >  54092 [ACK] Seq=1 Ack=18 Win=65536 Le...\n",
              "2      6    1.865006  ...   1434  8080  >  54092 [PSH, ACK] Seq=1 Ack=18 Win=655...\n",
              "3      9    2.506143  ...     66  8080  >  54092 [ACK] Seq=1369 Ack=177 Win=6540...\n",
              "4     10    3.218877  ...   1434  8080  >  54092 [PSH, ACK] Seq=1369 Ack=177 Win...\n",
              "..   ...         ...  ...    ...                                                ...\n",
              "200  402  121.564473  ...   1434  8080  >  54092 [PSH, ACK] Seq=135433 Ack=15759...\n",
              "201  405  122.160149  ...     66  8080  >  54092 [ACK] Seq=136801 Ack=15918 Win=...\n",
              "202  406  123.001379  ...   1434  8080  >  54092 [PSH, ACK] Seq=136801 Ack=15918...\n",
              "203  409  123.483470  ...     66  8080  >  54092 [ACK] Seq=138169 Ack=15919 Win=...\n",
              "204  410  124.097173  ...   1434  8080  >  54092 [PSH, ACK] Seq=138169 Ack=15919...\n",
              "\n",
              "[205 rows x 7 columns]"
            ]
          },
          "metadata": {},
          "execution_count": 65
        }
      ]
    },
    {
      "cell_type": "code",
      "metadata": {
        "id": "kN1igp2PukCb"
      },
      "source": [
        "time = np.array(df['Time'])\n",
        "length = np.array(df['Length'])\n",
        "\n"
      ],
      "execution_count": 66,
      "outputs": []
    },
    {
      "cell_type": "code",
      "metadata": {
        "id": "vMJL_79sxCNQ"
      },
      "source": [
        "throu_y = []\n",
        "throu_x = []\n",
        "\n",
        "c = -1\n",
        "curr_time = 2\n",
        "for curr_time in range(2,122,2):\n",
        "\n",
        "\n",
        "  time_pack_temp = []\n",
        "  len_pack_temp = []\n",
        "\n",
        "  for i in range(len(time)):\n",
        "    if(i<=c):\n",
        "      continue\n",
        "    if(time[i]<=curr_time):\n",
        "      time_pack_temp.append(time[i])\n",
        "      len_pack_temp.append(length[i])\n",
        "      c = i\n",
        "\n",
        "\n",
        "  \n",
        "  sum_t = sum(len_pack_temp)\n",
        "  if(len(len_pack_temp)>1):\n",
        "\n",
        "    throu_y.append(sum_t/(time_pack_temp[len(time_pack_temp)-1] - time_pack_temp[0]))\n",
        "  elif(len(len_pack_temp)==1):\n",
        "\n",
        "    throu_y.append(sum_t/time_pack_temp[0])\n",
        "  else:\n",
        "    throu_y.append(0)  \n",
        "\n",
        "  throu_x.append(curr_time)\n",
        "  print()\n",
        "\n",
        "\n",
        "\n",
        "\n",
        "\n",
        "\n"
      ],
      "execution_count": null,
      "outputs": []
    },
    {
      "cell_type": "code",
      "metadata": {
        "id": "sYh2v40n2cXr"
      },
      "source": [
        "throu_y"
      ],
      "execution_count": null,
      "outputs": []
    },
    {
      "cell_type": "code",
      "metadata": {
        "colab": {
          "base_uri": "https://localhost:8080/",
          "height": 325
        },
        "id": "2QulgRXO1NLZ",
        "outputId": "067596c5-84db-4d6d-d1ca-ad48306e5029"
      },
      "source": [
        "plt.plot(throu_x, throu_y)\n",
        "plt.xlabel('Time (in sec)')\n",
        "plt.ylabel('Throughput(in bytes/sec)')\n",
        "plt.suptitle('Throughput plot')"
      ],
      "execution_count": 69,
      "outputs": [
        {
          "output_type": "execute_result",
          "data": {
            "text/plain": [
              "Text(0.5, 0.98, 'Throughput plot')"
            ]
          },
          "metadata": {},
          "execution_count": 69
        },
        {
          "output_type": "display_data",
          "data": {
            "image/png": "[encoded data removed]",
            "text/plain": [
              "<Figure size 432x288 with 1 Axes>"
            ]
          },
          "metadata": {
            "needs_background": "light"
          }
        }
      ]
    }
  ]
}